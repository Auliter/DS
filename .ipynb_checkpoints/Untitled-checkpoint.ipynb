{
 "cells": [
  {
   "cell_type": "code",
   "execution_count": 1,
   "id": "bfb0792b",
   "metadata": {},
   "outputs": [
    {
     "data": {
      "text/html": [
       "<div>\n",
       "<style scoped>\n",
       "    .dataframe tbody tr th:only-of-type {\n",
       "        vertical-align: middle;\n",
       "    }\n",
       "\n",
       "    .dataframe tbody tr th {\n",
       "        vertical-align: top;\n",
       "    }\n",
       "\n",
       "    .dataframe thead th {\n",
       "        text-align: right;\n",
       "    }\n",
       "</style>\n",
       "<table border=\"1\" class=\"dataframe\">\n",
       "  <thead>\n",
       "    <tr style=\"text-align: right;\">\n",
       "      <th></th>\n",
       "      <th>seqn</th>\n",
       "      <th>sex</th>\n",
       "      <th>age</th>\n",
       "      <th>re</th>\n",
       "      <th>income</th>\n",
       "      <th>tx</th>\n",
       "      <th>dx</th>\n",
       "      <th>wt</th>\n",
       "      <th>ht</th>\n",
       "      <th>bmi</th>\n",
       "      <th>leg</th>\n",
       "      <th>arml</th>\n",
       "      <th>armc</th>\n",
       "      <th>waist</th>\n",
       "      <th>tri</th>\n",
       "      <th>sub</th>\n",
       "      <th>gh</th>\n",
       "      <th>albumin</th>\n",
       "      <th>bun</th>\n",
       "      <th>SCr</th>\n",
       "    </tr>\n",
       "  </thead>\n",
       "  <tbody>\n",
       "    <tr>\n",
       "      <th>0</th>\n",
       "      <td>51624</td>\n",
       "      <td>male</td>\n",
       "      <td>34.166667</td>\n",
       "      <td>Non-Hispanic White</td>\n",
       "      <td>[25000,35000)</td>\n",
       "      <td>0</td>\n",
       "      <td>0</td>\n",
       "      <td>87.4</td>\n",
       "      <td>164.7</td>\n",
       "      <td>32.22</td>\n",
       "      <td>41.5</td>\n",
       "      <td>40.0</td>\n",
       "      <td>36.4</td>\n",
       "      <td>100.4</td>\n",
       "      <td>16.4</td>\n",
       "      <td>24.9</td>\n",
       "      <td>5.2</td>\n",
       "      <td>4.8</td>\n",
       "      <td>6.0</td>\n",
       "      <td>0.94</td>\n",
       "    </tr>\n",
       "    <tr>\n",
       "      <th>1</th>\n",
       "      <td>51626</td>\n",
       "      <td>male</td>\n",
       "      <td>16.833333</td>\n",
       "      <td>Non-Hispanic Black</td>\n",
       "      <td>[45000,55000)</td>\n",
       "      <td>0</td>\n",
       "      <td>0</td>\n",
       "      <td>72.3</td>\n",
       "      <td>181.3</td>\n",
       "      <td>22.00</td>\n",
       "      <td>42.0</td>\n",
       "      <td>39.5</td>\n",
       "      <td>26.6</td>\n",
       "      <td>74.7</td>\n",
       "      <td>10.2</td>\n",
       "      <td>10.5</td>\n",
       "      <td>5.7</td>\n",
       "      <td>4.6</td>\n",
       "      <td>9.0</td>\n",
       "      <td>0.89</td>\n",
       "    </tr>\n",
       "    <tr>\n",
       "      <th>2</th>\n",
       "      <td>51628</td>\n",
       "      <td>female</td>\n",
       "      <td>60.166667</td>\n",
       "      <td>Non-Hispanic Black</td>\n",
       "      <td>[10000,15000)</td>\n",
       "      <td>1</td>\n",
       "      <td>1</td>\n",
       "      <td>116.8</td>\n",
       "      <td>166.0</td>\n",
       "      <td>42.39</td>\n",
       "      <td>35.3</td>\n",
       "      <td>39.0</td>\n",
       "      <td>42.2</td>\n",
       "      <td>118.2</td>\n",
       "      <td>29.6</td>\n",
       "      <td>35.6</td>\n",
       "      <td>6.0</td>\n",
       "      <td>3.9</td>\n",
       "      <td>10.0</td>\n",
       "      <td>1.11</td>\n",
       "    </tr>\n",
       "    <tr>\n",
       "      <th>3</th>\n",
       "      <td>51629</td>\n",
       "      <td>male</td>\n",
       "      <td>26.083333</td>\n",
       "      <td>Mexican American</td>\n",
       "      <td>[25000,35000)</td>\n",
       "      <td>0</td>\n",
       "      <td>0</td>\n",
       "      <td>97.6</td>\n",
       "      <td>173.0</td>\n",
       "      <td>32.61</td>\n",
       "      <td>41.7</td>\n",
       "      <td>38.7</td>\n",
       "      <td>37.0</td>\n",
       "      <td>103.7</td>\n",
       "      <td>19.0</td>\n",
       "      <td>23.2</td>\n",
       "      <td>5.1</td>\n",
       "      <td>4.2</td>\n",
       "      <td>8.0</td>\n",
       "      <td>0.80</td>\n",
       "    </tr>\n",
       "    <tr>\n",
       "      <th>4</th>\n",
       "      <td>51630</td>\n",
       "      <td>female</td>\n",
       "      <td>49.666667</td>\n",
       "      <td>Non-Hispanic White</td>\n",
       "      <td>[35000,45000)</td>\n",
       "      <td>0</td>\n",
       "      <td>0</td>\n",
       "      <td>86.7</td>\n",
       "      <td>168.4</td>\n",
       "      <td>30.57</td>\n",
       "      <td>37.5</td>\n",
       "      <td>36.1</td>\n",
       "      <td>33.3</td>\n",
       "      <td>107.8</td>\n",
       "      <td>30.3</td>\n",
       "      <td>28.0</td>\n",
       "      <td>5.3</td>\n",
       "      <td>4.3</td>\n",
       "      <td>13.0</td>\n",
       "      <td>0.79</td>\n",
       "    </tr>\n",
       "  </tbody>\n",
       "</table>\n",
       "</div>"
      ],
      "text/plain": [
       "    seqn     sex        age                  re         income  tx  dx     wt  \\\n",
       "0  51624    male  34.166667  Non-Hispanic White  [25000,35000)   0   0   87.4   \n",
       "1  51626    male  16.833333  Non-Hispanic Black  [45000,55000)   0   0   72.3   \n",
       "2  51628  female  60.166667  Non-Hispanic Black  [10000,15000)   1   1  116.8   \n",
       "3  51629    male  26.083333    Mexican American  [25000,35000)   0   0   97.6   \n",
       "4  51630  female  49.666667  Non-Hispanic White  [35000,45000)   0   0   86.7   \n",
       "\n",
       "      ht    bmi   leg  arml  armc  waist   tri   sub   gh  albumin   bun   SCr  \n",
       "0  164.7  32.22  41.5  40.0  36.4  100.4  16.4  24.9  5.2      4.8   6.0  0.94  \n",
       "1  181.3  22.00  42.0  39.5  26.6   74.7  10.2  10.5  5.7      4.6   9.0  0.89  \n",
       "2  166.0  42.39  35.3  39.0  42.2  118.2  29.6  35.6  6.0      3.9  10.0  1.11  \n",
       "3  173.0  32.61  41.7  38.7  37.0  103.7  19.0  23.2  5.1      4.2   8.0  0.80  \n",
       "4  168.4  30.57  37.5  36.1  33.3  107.8  30.3  28.0  5.3      4.3  13.0  0.79  "
      ]
     },
     "execution_count": 1,
     "metadata": {},
     "output_type": "execute_result"
    }
   ],
   "source": [
    "import pandas as  pd\n",
    "df = pd.read_stata('nhgh.dta')\n",
    "df.head()"
   ]
  },
  {
   "cell_type": "code",
   "execution_count": 2,
   "id": "292c5751",
   "metadata": {},
   "outputs": [
    {
     "name": "stdout",
     "output_type": "stream",
     "text": [
      "       seqn     sex        age                  re         income  tx  dx  \\\n",
      "9     51643  female  43.000000  Non-Hispanic Black  [35000,45000)   1   1   \n",
      "10    51645    male  66.416667    Mexican American   [5000,10000)   0   0   \n",
      "13    51651  female  19.333333  Non-Hispanic Black  [20000,25000)   0   0   \n",
      "20    51660    male  32.833333    Mexican American  [25000,35000)   0   0   \n",
      "30    51672  female  27.916667  Non-Hispanic White  [45000,55000)   0   0   \n",
      "...     ...     ...        ...                 ...            ...  ..  ..   \n",
      "6761  62109  female  17.750000  Non-Hispanic Black   [5000,10000)   0   0   \n",
      "6763  62112  female  58.333333      Other Hispanic  [10000,15000)   1   1   \n",
      "6776  62136    male  70.333333    Mexican American   [5000,10000)   0   0   \n",
      "6790  62155    male  33.000000    Mexican American  [35000,45000)   0   0   \n",
      "6794  62160  female  63.583333      Other Hispanic            NaN   1   1   \n",
      "\n",
      "         wt     ht    bmi   leg  arml  armc  waist   tri   sub    gh  albumin  \\\n",
      "9     107.7  164.3  39.90  32.7  36.5  39.6  129.8  27.0   NaN  11.0      3.6   \n",
      "10     82.9  171.3  28.25   NaN   NaN   NaN    NaN   NaN   NaN   5.7      4.4   \n",
      "13    111.6  165.7  40.65  38.5  35.6  40.5  117.4   NaN   NaN   6.2      4.1   \n",
      "20     85.7  159.5  33.69  35.0  37.0  32.6  105.3  20.6   NaN   6.0      4.4   \n",
      "30    105.8  149.7  47.21   NaN   NaN   NaN    NaN   NaN   NaN   5.2      4.0   \n",
      "...     ...    ...    ...   ...   ...   ...    ...   ...   ...   ...      ...   \n",
      "6761  104.8  168.5  36.91  42.0  37.0  42.5  119.5   NaN   NaN   9.5      4.2   \n",
      "6763   53.7  147.9  24.55  34.3  32.2  26.2   84.7  23.2   NaN   6.3      4.4   \n",
      "6776   90.5  166.0  32.84   NaN   NaN   NaN    NaN   NaN   NaN   5.7      3.7   \n",
      "6790   94.3  163.5  35.28  34.4  34.7  35.5  112.3  20.2   NaN   5.4      4.1   \n",
      "6794   71.3  157.3  28.82  31.4  33.0  30.9  102.1  20.1  19.7   6.7      4.3   \n",
      "\n",
      "       bun   SCr  \n",
      "9     16.0  2.54  \n",
      "10     9.0  0.86  \n",
      "13     9.0  0.71  \n",
      "20     8.0  0.72  \n",
      "30    10.0  0.60  \n",
      "...    ...   ...  \n",
      "6761   6.0  0.58  \n",
      "6763  15.0  0.70  \n",
      "6776   8.0  0.78  \n",
      "6790  10.0  0.97  \n",
      "6794  15.0  0.63  \n",
      "\n",
      "[1452 rows x 20 columns]\n",
      "6795\n",
      "1452\n",
      "971\n"
     ]
    }
   ],
   "source": [
    "dfNa = df[df.isna().any(axis=1)]\n",
    "dfNa2 = df[df['sub'].isna()]\n",
    "print(dfNa)\n",
    "print(len(df.index))\n",
    "print(len(dfNa.index))\n",
    "print(len(dfNa2.index))"
   ]
  },
  {
   "cell_type": "markdown",
   "id": "6f52fbe2",
   "metadata": {},
   "source": [
    "<font color='blue' ><b>\n",
    "From the above result, it can be seen that there is about 1/4 of the data containing NA values. By a close examination of the rows, it can be seen that many of them are missing values in columns of subscapular skinfold thickness measurement. According to the result from Andrea, Rodrigo, Et Al the value of subscapular skinfold thickness has a very strong association with the developing of type2 diabetes (https://www.ncbi.nlm.nih.gov/pmc/articles/PMC6960014/) which lead to a decisio to drop these rows instead of filling them with an zero/mean value.\n",
    "<b></font>"
   ]
  },
  {
   "cell_type": "code",
   "execution_count": 3,
   "id": "d9fe887b",
   "metadata": {
    "scrolled": true
   },
   "outputs": [],
   "source": [
    "def labelRace(re):\n",
    "    if re == \"Other Hispanic\" or re == \"Mexican American\":\n",
    "        return 0.25\n",
    "    elif re == \"Non-Hispanic Black\":\n",
    "        return 0.5\n",
    "    elif re == \"Non-Hispanic White\":\n",
    "        return 0.75\n",
    "    else:\n",
    "        return 1.0\n",
    "    \n",
    "def labelIncome(income): ##the median of range value is taken, all values are calculated as the ratio over 100,000 which is regarded as the max income\n",
    "    if income == '[0,5000)':\n",
    "        return 0.025\n",
    "    elif income == '[5000,10000)':\n",
    "        return 0.075\n",
    "    elif income == '[10000,15000)' or income == '< 20000':\n",
    "        return 0.125\n",
    "    elif income == '[15000,20000)':\n",
    "        return 0.175\n",
    "    elif income == '[20000,25000)':\n",
    "        return 0.225\n",
    "    elif income == '[25000,35000)':\n",
    "        return 0.275\n",
    "    elif income == '[35000,45000)':\n",
    "        return 0.4\n",
    "    elif income == '[45000,55000)' or income == '> 20000':\n",
    "        return 0.5\n",
    "    elif income == '[55000,65000)':\n",
    "        return 0.6\n",
    "    elif income == '[65000,75000)':\n",
    "        return 0.7\n",
    "    elif income == '[75000,100000)':\n",
    "        return 0.875\n",
    "    return 1\n",
    "    \n",
    "pd.options.mode.chained_assignment = None\n",
    "df = df.dropna()\n",
    "df['sex'] = df['sex'].apply(lambda gender: 1 if gender == 'male' else 0 )\n",
    "df['re'] = df['re'].apply(labelRace)\n",
    "df['income'] = df['income'].apply(labelIncome)\n",
    "df['gh'] = df['gh'].apply(lambda value: 1 if value >=6.5 else 0)\n",
    "df['sex'] = df['sex'].astype(int)"
   ]
  },
  {
   "cell_type": "code",
   "execution_count": 4,
   "id": "f13712ad",
   "metadata": {},
   "outputs": [
    {
     "name": "stdout",
     "output_type": "stream",
     "text": [
      "384\n"
     ]
    }
   ],
   "source": [
    "df_withDiabetes = df[df['gh'] == 1]\n",
    "print(len(df_withDiabetes.index))\n"
   ]
  },
  {
   "cell_type": "code",
   "execution_count": 5,
   "id": "63dab311",
   "metadata": {},
   "outputs": [
    {
     "data": {
      "text/html": [
       "<div>\n",
       "<style scoped>\n",
       "    .dataframe tbody tr th:only-of-type {\n",
       "        vertical-align: middle;\n",
       "    }\n",
       "\n",
       "    .dataframe tbody tr th {\n",
       "        vertical-align: top;\n",
       "    }\n",
       "\n",
       "    .dataframe thead th {\n",
       "        text-align: right;\n",
       "    }\n",
       "</style>\n",
       "<table border=\"1\" class=\"dataframe\">\n",
       "  <thead>\n",
       "    <tr style=\"text-align: right;\">\n",
       "      <th></th>\n",
       "      <th>sex</th>\n",
       "      <th>age</th>\n",
       "      <th>re</th>\n",
       "      <th>income</th>\n",
       "      <th>tx</th>\n",
       "      <th>dx</th>\n",
       "      <th>wt</th>\n",
       "      <th>ht</th>\n",
       "      <th>bmi</th>\n",
       "      <th>leg</th>\n",
       "      <th>arml</th>\n",
       "      <th>armc</th>\n",
       "      <th>waist</th>\n",
       "      <th>tri</th>\n",
       "      <th>sub</th>\n",
       "      <th>albumin</th>\n",
       "      <th>bun</th>\n",
       "      <th>SCr</th>\n",
       "    </tr>\n",
       "  </thead>\n",
       "  <tbody>\n",
       "    <tr>\n",
       "      <th>0</th>\n",
       "      <td>0.973858</td>\n",
       "      <td>-0.444264</td>\n",
       "      <td>0.731330</td>\n",
       "      <td>-0.587421</td>\n",
       "      <td>-0.282130</td>\n",
       "      <td>-0.358304</td>\n",
       "      <td>0.646071</td>\n",
       "      <td>-0.252567</td>\n",
       "      <td>0.954476</td>\n",
       "      <td>0.769203</td>\n",
       "      <td>1.178080</td>\n",
       "      <td>1.039658</td>\n",
       "      <td>0.474691</td>\n",
       "      <td>-0.203529</td>\n",
       "      <td>0.630053</td>\n",
       "      <td>1.556518</td>\n",
       "      <td>-1.229289</td>\n",
       "      <td>0.170480</td>\n",
       "    </tr>\n",
       "    <tr>\n",
       "      <th>1</th>\n",
       "      <td>0.973858</td>\n",
       "      <td>-1.270725</td>\n",
       "      <td>-0.310669</td>\n",
       "      <td>0.122971</td>\n",
       "      <td>-0.282130</td>\n",
       "      <td>-0.358304</td>\n",
       "      <td>-0.181390</td>\n",
       "      <td>1.372083</td>\n",
       "      <td>-0.880905</td>\n",
       "      <td>0.899254</td>\n",
       "      <td>0.995807</td>\n",
       "      <td>-1.078187</td>\n",
       "      <td>-1.234666</td>\n",
       "      <td>-0.977312</td>\n",
       "      <td>-1.113423</td>\n",
       "      <td>0.924423</td>\n",
       "      <td>-0.689919</td>\n",
       "      <td>0.045979</td>\n",
       "    </tr>\n",
       "    <tr>\n",
       "      <th>2</th>\n",
       "      <td>-1.026651</td>\n",
       "      <td>0.795427</td>\n",
       "      <td>-0.310669</td>\n",
       "      <td>-1.061015</td>\n",
       "      <td>3.543806</td>\n",
       "      <td>2.790407</td>\n",
       "      <td>2.257153</td>\n",
       "      <td>-0.125336</td>\n",
       "      <td>2.780879</td>\n",
       "      <td>-0.843431</td>\n",
       "      <td>0.813535</td>\n",
       "      <td>2.293076</td>\n",
       "      <td>1.658603</td>\n",
       "      <td>1.443882</td>\n",
       "      <td>1.925552</td>\n",
       "      <td>-1.287910</td>\n",
       "      <td>-0.510129</td>\n",
       "      <td>0.593784</td>\n",
       "    </tr>\n",
       "    <tr>\n",
       "      <th>3</th>\n",
       "      <td>0.973858</td>\n",
       "      <td>-0.829681</td>\n",
       "      <td>-1.352667</td>\n",
       "      <td>-0.587421</td>\n",
       "      <td>-0.282130</td>\n",
       "      <td>-0.358304</td>\n",
       "      <td>1.205018</td>\n",
       "      <td>0.559758</td>\n",
       "      <td>1.024515</td>\n",
       "      <td>0.821223</td>\n",
       "      <td>0.704172</td>\n",
       "      <td>1.169322</td>\n",
       "      <td>0.694180</td>\n",
       "      <td>0.120961</td>\n",
       "      <td>0.424226</td>\n",
       "      <td>-0.339767</td>\n",
       "      <td>-0.869709</td>\n",
       "      <td>-0.178123</td>\n",
       "    </tr>\n",
       "    <tr>\n",
       "      <th>4</th>\n",
       "      <td>-1.026651</td>\n",
       "      <td>0.294783</td>\n",
       "      <td>0.731330</td>\n",
       "      <td>-0.192759</td>\n",
       "      <td>-0.282130</td>\n",
       "      <td>-0.358304</td>\n",
       "      <td>0.607712</td>\n",
       "      <td>0.109553</td>\n",
       "      <td>0.658157</td>\n",
       "      <td>-0.271206</td>\n",
       "      <td>-0.243644</td>\n",
       "      <td>0.369727</td>\n",
       "      <td>0.966879</td>\n",
       "      <td>1.531245</td>\n",
       "      <td>1.005384</td>\n",
       "      <td>-0.023720</td>\n",
       "      <td>0.029242</td>\n",
       "      <td>-0.203023</td>\n",
       "    </tr>\n",
       "    <tr>\n",
       "      <th>...</th>\n",
       "      <td>...</td>\n",
       "      <td>...</td>\n",
       "      <td>...</td>\n",
       "      <td>...</td>\n",
       "      <td>...</td>\n",
       "      <td>...</td>\n",
       "      <td>...</td>\n",
       "      <td>...</td>\n",
       "      <td>...</td>\n",
       "      <td>...</td>\n",
       "      <td>...</td>\n",
       "      <td>...</td>\n",
       "      <td>...</td>\n",
       "      <td>...</td>\n",
       "      <td>...</td>\n",
       "      <td>...</td>\n",
       "      <td>...</td>\n",
       "      <td>...</td>\n",
       "    </tr>\n",
       "    <tr>\n",
       "      <th>6788</th>\n",
       "      <td>0.973858</td>\n",
       "      <td>0.417957</td>\n",
       "      <td>-0.310669</td>\n",
       "      <td>-0.903150</td>\n",
       "      <td>-0.282130</td>\n",
       "      <td>-0.358304</td>\n",
       "      <td>3.725758</td>\n",
       "      <td>1.146981</td>\n",
       "      <td>3.217276</td>\n",
       "      <td>0.170967</td>\n",
       "      <td>1.250989</td>\n",
       "      <td>3.416831</td>\n",
       "      <td>3.341354</td>\n",
       "      <td>1.993019</td>\n",
       "      <td>0.811665</td>\n",
       "      <td>-0.339767</td>\n",
       "      <td>0.209032</td>\n",
       "      <td>0.344782</td>\n",
       "    </tr>\n",
       "    <tr>\n",
       "      <th>6789</th>\n",
       "      <td>0.973858</td>\n",
       "      <td>-0.913122</td>\n",
       "      <td>-0.310669</td>\n",
       "      <td>1.701618</td>\n",
       "      <td>-0.282130</td>\n",
       "      <td>-0.358304</td>\n",
       "      <td>-0.027953</td>\n",
       "      <td>0.432526</td>\n",
       "      <td>-0.257737</td>\n",
       "      <td>0.431070</td>\n",
       "      <td>0.995807</td>\n",
       "      <td>0.218453</td>\n",
       "      <td>-0.842245</td>\n",
       "      <td>-1.002273</td>\n",
       "      <td>-1.270820</td>\n",
       "      <td>0.608375</td>\n",
       "      <td>0.388822</td>\n",
       "      <td>0.618684</td>\n",
       "    </tr>\n",
       "    <tr>\n",
       "      <th>6791</th>\n",
       "      <td>-1.026651</td>\n",
       "      <td>0.259022</td>\n",
       "      <td>0.731330</td>\n",
       "      <td>-1.376744</td>\n",
       "      <td>-0.282130</td>\n",
       "      <td>2.790407</td>\n",
       "      <td>0.629631</td>\n",
       "      <td>-1.015957</td>\n",
       "      <td>1.521972</td>\n",
       "      <td>-1.207575</td>\n",
       "      <td>-0.826915</td>\n",
       "      <td>1.169322</td>\n",
       "      <td>0.408179</td>\n",
       "      <td>1.319078</td>\n",
       "      <td>0.690590</td>\n",
       "      <td>-0.655815</td>\n",
       "      <td>-1.049499</td>\n",
       "      <td>0.045979</td>\n",
       "    </tr>\n",
       "    <tr>\n",
       "      <th>6792</th>\n",
       "      <td>0.973858</td>\n",
       "      <td>-0.762134</td>\n",
       "      <td>-1.352667</td>\n",
       "      <td>-0.192759</td>\n",
       "      <td>-0.282130</td>\n",
       "      <td>-0.358304</td>\n",
       "      <td>-1.019810</td>\n",
       "      <td>-0.291716</td>\n",
       "      <td>-1.038942</td>\n",
       "      <td>-0.843431</td>\n",
       "      <td>-1.118550</td>\n",
       "      <td>-0.429867</td>\n",
       "      <td>-1.334433</td>\n",
       "      <td>-1.726135</td>\n",
       "      <td>-1.561399</td>\n",
       "      <td>0.608375</td>\n",
       "      <td>-0.330339</td>\n",
       "      <td>0.170480</td>\n",
       "    </tr>\n",
       "    <tr>\n",
       "      <th>6793</th>\n",
       "      <td>0.973858</td>\n",
       "      <td>1.538447</td>\n",
       "      <td>-0.310669</td>\n",
       "      <td>-1.061015</td>\n",
       "      <td>-0.282130</td>\n",
       "      <td>-0.358304</td>\n",
       "      <td>-0.027953</td>\n",
       "      <td>-0.448308</td>\n",
       "      <td>0.263066</td>\n",
       "      <td>0.014906</td>\n",
       "      <td>0.011537</td>\n",
       "      <td>-0.084097</td>\n",
       "      <td>0.714134</td>\n",
       "      <td>0.220804</td>\n",
       "      <td>0.169969</td>\n",
       "      <td>-0.971863</td>\n",
       "      <td>1.107982</td>\n",
       "      <td>1.166490</td>\n",
       "    </tr>\n",
       "  </tbody>\n",
       "</table>\n",
       "<p>5343 rows × 18 columns</p>\n",
       "</div>"
      ],
      "text/plain": [
       "           sex       age        re    income        tx        dx        wt  \\\n",
       "0     0.973858 -0.444264  0.731330 -0.587421 -0.282130 -0.358304  0.646071   \n",
       "1     0.973858 -1.270725 -0.310669  0.122971 -0.282130 -0.358304 -0.181390   \n",
       "2    -1.026651  0.795427 -0.310669 -1.061015  3.543806  2.790407  2.257153   \n",
       "3     0.973858 -0.829681 -1.352667 -0.587421 -0.282130 -0.358304  1.205018   \n",
       "4    -1.026651  0.294783  0.731330 -0.192759 -0.282130 -0.358304  0.607712   \n",
       "...        ...       ...       ...       ...       ...       ...       ...   \n",
       "6788  0.973858  0.417957 -0.310669 -0.903150 -0.282130 -0.358304  3.725758   \n",
       "6789  0.973858 -0.913122 -0.310669  1.701618 -0.282130 -0.358304 -0.027953   \n",
       "6791 -1.026651  0.259022  0.731330 -1.376744 -0.282130  2.790407  0.629631   \n",
       "6792  0.973858 -0.762134 -1.352667 -0.192759 -0.282130 -0.358304 -1.019810   \n",
       "6793  0.973858  1.538447 -0.310669 -1.061015 -0.282130 -0.358304 -0.027953   \n",
       "\n",
       "            ht       bmi       leg      arml      armc     waist       tri  \\\n",
       "0    -0.252567  0.954476  0.769203  1.178080  1.039658  0.474691 -0.203529   \n",
       "1     1.372083 -0.880905  0.899254  0.995807 -1.078187 -1.234666 -0.977312   \n",
       "2    -0.125336  2.780879 -0.843431  0.813535  2.293076  1.658603  1.443882   \n",
       "3     0.559758  1.024515  0.821223  0.704172  1.169322  0.694180  0.120961   \n",
       "4     0.109553  0.658157 -0.271206 -0.243644  0.369727  0.966879  1.531245   \n",
       "...        ...       ...       ...       ...       ...       ...       ...   \n",
       "6788  1.146981  3.217276  0.170967  1.250989  3.416831  3.341354  1.993019   \n",
       "6789  0.432526 -0.257737  0.431070  0.995807  0.218453 -0.842245 -1.002273   \n",
       "6791 -1.015957  1.521972 -1.207575 -0.826915  1.169322  0.408179  1.319078   \n",
       "6792 -0.291716 -1.038942 -0.843431 -1.118550 -0.429867 -1.334433 -1.726135   \n",
       "6793 -0.448308  0.263066  0.014906  0.011537 -0.084097  0.714134  0.220804   \n",
       "\n",
       "           sub   albumin       bun       SCr  \n",
       "0     0.630053  1.556518 -1.229289  0.170480  \n",
       "1    -1.113423  0.924423 -0.689919  0.045979  \n",
       "2     1.925552 -1.287910 -0.510129  0.593784  \n",
       "3     0.424226 -0.339767 -0.869709 -0.178123  \n",
       "4     1.005384 -0.023720  0.029242 -0.203023  \n",
       "...        ...       ...       ...       ...  \n",
       "6788  0.811665 -0.339767  0.209032  0.344782  \n",
       "6789 -1.270820  0.608375  0.388822  0.618684  \n",
       "6791  0.690590 -0.655815 -1.049499  0.045979  \n",
       "6792 -1.561399  0.608375 -0.330339  0.170480  \n",
       "6793  0.169969 -0.971863  1.107982  1.166490  \n",
       "\n",
       "[5343 rows x 18 columns]"
      ]
     },
     "execution_count": 5,
     "metadata": {},
     "output_type": "execute_result"
    }
   ],
   "source": [
    "regressors = df[['sex','age','re','income','tx','dx','wt','ht','bmi','leg','arml','armc','waist','tri','sub','albumin','bun','SCr']]\n",
    "normalized_regressors = (regressors - regressors.mean())/regressors.std()\n",
    "regressand = df['gh']\n",
    "normalized_regressors"
   ]
  },
  {
   "cell_type": "markdown",
   "id": "d24e256c",
   "metadata": {},
   "source": [
    "<font color='blue' size=\"+2\"><b>Logistic Regression:<b><font>\n"
   ]
  },
  {
   "cell_type": "code",
   "execution_count": 6,
   "id": "da793631",
   "metadata": {},
   "outputs": [
    {
     "name": "stdout",
     "output_type": "stream",
     "text": [
      "Optimization terminated successfully.\n",
      "         Current function value: 0.136025\n",
      "         Iterations 9\n"
     ]
    },
    {
     "data": {
      "image/png": "[encoded data removed]",
      "text/plain": [
       "<Figure size 576x576 with 1 Axes>"
      ]
     },
     "metadata": {
      "needs_background": "light"
     },
     "output_type": "display_data"
    },
    {
     "name": "stdout",
     "output_type": "stream",
     "text": [
      "Test accuracy =  0.9631940112289458\n"
     ]
    }
   ],
   "source": [
    "import matplotlib.pyplot as plt\n",
    "import numpy as np\n",
    "import statsmodels.api as sm  ##statsmodel package used as the model summary contains more statistical info\n",
    "from sklearn.model_selection import train_test_split\n",
    "from sklearn.metrics import confusion_matrix,accuracy_score\n",
    "\n",
    "x_train,x_test, y_train, y_test = train_test_split(regressors,regressand,test_size=0.3,random_state=0)\n",
    "\n",
    "vanilla_model = sm.Logit(y_train,x_train).fit()\n",
    "predictY = vanilla_model.predict(x_test)\n",
    "predictY = list(map(round, predictY))\n",
    "cm = confusion_matrix(y_test, predictY)\n",
    "fig, ax = plt.subplots(figsize=(8, 8))\n",
    "ax.imshow(cm)\n",
    "ax.grid(False)\n",
    "ax.xaxis.set(ticks=(0, 1), ticklabels=('Predicted 0s', 'Predicted 1s'))\n",
    "ax.yaxis.set(ticks=(0, 1), ticklabels=('Actual 0s', 'Actual 1s'))\n",
    "ax.set_ylim(1.5, -0.5)\n",
    "for i in range(2):\n",
    "    for j in range(2):\n",
    "        ax.text(j, i, cm[i, j], ha='center', va='center', color='red')\n",
    "plt.show()\n",
    "print('Test accuracy = ', accuracy_score(y_test, predictY))"
   ]
  },
  {
   "cell_type": "code",
   "execution_count": 7,
   "id": "018adaae",
   "metadata": {},
   "outputs": [
    {
     "name": "stdout",
     "output_type": "stream",
     "text": [
      "                           Logit Regression Results                           \n",
      "==============================================================================\n",
      "Dep. Variable:                     gh   No. Observations:                 3740\n",
      "Model:                          Logit   Df Residuals:                     3722\n",
      "Method:                           MLE   Df Model:                           17\n",
      "Date:                Sat, 30 Dec 2023   Pseudo R-squ.:                  0.4938\n",
      "Time:                        18:20:22   Log-Likelihood:                -508.73\n",
      "converged:                       True   LL-Null:                       -1005.0\n",
      "Covariance Type:            nonrobust   LLR p-value:                3.402e-200\n",
      "==============================================================================\n",
      "                 coef    std err          z      P>|z|      [0.025      0.975]\n",
      "------------------------------------------------------------------------------\n",
      "sex            0.3660      0.300      1.221      0.222      -0.221       0.953\n",
      "age            0.0209      0.007      2.994      0.003       0.007       0.035\n",
      "re            -0.9546      0.385     -2.477      0.013      -1.710      -0.199\n",
      "income        -0.6564      0.316     -2.079      0.038      -1.275      -0.038\n",
      "tx             2.2315      0.258      8.664      0.000       1.727       2.736\n",
      "dx             1.8345      0.252      7.288      0.000       1.341       2.328\n",
      "wt             0.0189      0.014      1.310      0.190      -0.009       0.047\n",
      "ht            -0.0196      0.017     -1.123      0.262      -0.054       0.015\n",
      "bmi           -0.1474      0.057     -2.594      0.009      -0.259      -0.036\n",
      "leg           -0.0288      0.036     -0.810      0.418      -0.099       0.041\n",
      "arml          -0.0275      0.062     -0.444      0.657      -0.149       0.094\n",
      "armc           0.0583      0.047      1.235      0.217      -0.034       0.151\n",
      "waist          0.0480      0.018      2.664      0.008       0.013       0.083\n",
      "tri           -0.0254      0.020     -1.296      0.195      -0.064       0.013\n",
      "sub            0.0452      0.016      2.764      0.006       0.013       0.077\n",
      "albumin       -0.7092      0.293     -2.424      0.015      -1.283      -0.136\n",
      "bun            0.0110      0.016      0.681      0.496      -0.021       0.042\n",
      "SCr           -0.5392      0.324     -1.666      0.096      -1.174       0.095\n",
      "==============================================================================\n"
     ]
    }
   ],
   "source": [
    "print(vanilla_model.summary()) "
   ]
  },
  {
   "cell_type": "markdown",
   "id": "5f75493e",
   "metadata": {},
   "source": [
    "<font color='blue'><b>From the confusion matrix, it can be seen that the model's performance is not very good, the false negative rate is 33% which is quite high. From the summary of the model, it can be seen that regressors (sex, wt, ht, leg, arml, armc, tri, bun) have very high p-values, meaning there is a decent chance they have little impact on the model. Therefore, a new list of regressors is created with these 8 columns removed.<b><font>"
   ]
  },
  {
   "cell_type": "code",
   "execution_count": 8,
   "id": "fdb86ec4",
   "metadata": {},
   "outputs": [
    {
     "name": "stdout",
     "output_type": "stream",
     "text": [
      "Optimization terminated successfully.\n",
      "         Current function value: 0.138920\n",
      "         Iterations 8\n"
     ]
    },
    {
     "data": {
      "image/png": "[encoded data removed]",
      "text/plain": [
       "<Figure size 576x576 with 1 Axes>"
      ]
     },
     "metadata": {
      "needs_background": "light"
     },
     "output_type": "display_data"
    },
    {
     "name": "stdout",
     "output_type": "stream",
     "text": [
      "Test accuracy =  0.9631940112289458\n"
     ]
    }
   ],
   "source": [
    "new_regressor = df[['age','re','income','tx','dx','bmi','waist','sub','albumin','SCr']]\n",
    "x_train,x_test, y_train, y_test = train_test_split(new_regressor,regressand,test_size=0.3,random_state=0)\n",
    "\n",
    "new_model = sm.Logit(y_train,x_train).fit()\n",
    "predictY = new_model.predict(x_test)\n",
    "predictY = list(map(round, predictY))\n",
    "cm = confusion_matrix(y_test, predictY)\n",
    "fig, ax = plt.subplots(figsize=(8, 8))\n",
    "ax.imshow(cm)\n",
    "ax.grid(False)\n",
    "ax.xaxis.set(ticks=(0, 1), ticklabels=('Predicted 0s', 'Predicted 1s'))\n",
    "ax.yaxis.set(ticks=(0, 1), ticklabels=('Actual 0s', 'Actual 1s'))\n",
    "ax.set_ylim(1.5, -0.5)\n",
    "for i in range(2):\n",
    "    for j in range(2):\n",
    "        ax.text(j, i, cm[i, j], ha='center', va='center', color='red')\n",
    "plt.show()\n",
    "print('Test accuracy = ', accuracy_score(y_test, predictY))"
   ]
  },
  {
   "cell_type": "code",
   "execution_count": 9,
   "id": "9cb75630",
   "metadata": {},
   "outputs": [
    {
     "name": "stdout",
     "output_type": "stream",
     "text": [
      "                           Logit Regression Results                           \n",
      "==============================================================================\n",
      "Dep. Variable:                     gh   No. Observations:                 3740\n",
      "Model:                          Logit   Df Residuals:                     3730\n",
      "Method:                           MLE   Df Model:                            9\n",
      "Date:                Sat, 30 Dec 2023   Pseudo R-squ.:                  0.4830\n",
      "Time:                        18:20:22   Log-Likelihood:                -519.56\n",
      "converged:                       True   LL-Null:                       -1005.0\n",
      "Covariance Type:            nonrobust   LLR p-value:                3.125e-203\n",
      "==============================================================================\n",
      "                 coef    std err          z      P>|z|      [0.025      0.975]\n",
      "------------------------------------------------------------------------------\n",
      "age            0.0166      0.006      2.939      0.003       0.006       0.028\n",
      "re            -1.2481      0.364     -3.427      0.001      -1.962      -0.534\n",
      "income        -0.5863      0.305     -1.925      0.054      -1.183       0.011\n",
      "tx             2.2951      0.254      9.050      0.000       1.798       2.792\n",
      "dx             1.8686      0.250      7.476      0.000       1.379       2.358\n",
      "bmi           -0.0991      0.034     -2.919      0.004      -0.166      -0.033\n",
      "waist          0.0493      0.013      3.757      0.000       0.024       0.075\n",
      "sub            0.0309      0.014      2.143      0.032       0.003       0.059\n",
      "albumin       -1.4307      0.136    -10.498      0.000      -1.698      -1.164\n",
      "SCr           -0.4168      0.209     -1.996      0.046      -0.826      -0.007\n",
      "==============================================================================\n"
     ]
    }
   ],
   "source": [
    "print(new_model.summary())"
   ]
  },
  {
   "cell_type": "markdown",
   "id": "a3650c74",
   "metadata": {},
   "source": [
    "<font color='blue'><b>From the result it can be seen that the new model has about the same performance as the old one and removing the 9 columns is a correct decision. So the fine-tuning will be based on this new model. For tuning hyperparameters, the sklearn model library is used instead since it supports custom input for hyperparameters like solver, etc which is not supported in statsmodel package.<font><b>"
   ]
  },
  {
   "cell_type": "code",
   "execution_count": 10,
   "id": "7a54a7ce",
   "metadata": {},
   "outputs": [
    {
     "name": "stdout",
     "output_type": "stream",
     "text": [
      "0.9619463505926388\n"
     ]
    },
    {
     "data": {
      "text/plain": [
       "array([[1478,   25],\n",
       "       [  36,   64]], dtype=int64)"
      ]
     },
     "execution_count": 10,
     "metadata": {},
     "output_type": "execute_result"
    }
   ],
   "source": [
    "from sklearn.linear_model import LogisticRegression\n",
    "\n",
    "model1 = LogisticRegression(solver='newton-cg', random_state=0).fit(x_train, y_train)\n",
    "print(model1.score(x_test,y_test))\n",
    "confusion_matrix(y_test, model1.predict(x_test))"
   ]
  },
  {
   "cell_type": "code",
   "execution_count": 11,
   "id": "be6820b6",
   "metadata": {},
   "outputs": [
    {
     "name": "stdout",
     "output_type": "stream",
     "text": [
      "0.9631940112289458\n"
     ]
    },
    {
     "data": {
      "text/plain": [
       "array([[1479,   24],\n",
       "       [  35,   65]], dtype=int64)"
      ]
     },
     "execution_count": 11,
     "metadata": {},
     "output_type": "execute_result"
    }
   ],
   "source": [
    "model2 = LogisticRegression(solver='liblinear', random_state=0, penalty = 'l1').fit(x_train, y_train)\n",
    "print(model2.score(x_test,y_test))\n",
    "confusion_matrix(y_test, model2.predict(x_test))"
   ]
  },
  {
   "cell_type": "code",
   "execution_count": 12,
   "id": "aafe07d1",
   "metadata": {},
   "outputs": [
    {
     "name": "stdout",
     "output_type": "stream",
     "text": [
      "0.9631940112289458\n"
     ]
    },
    {
     "data": {
      "text/plain": [
       "array([[1479,   24],\n",
       "       [  35,   65]], dtype=int64)"
      ]
     },
     "execution_count": 12,
     "metadata": {},
     "output_type": "execute_result"
    }
   ],
   "source": [
    "model3 = LogisticRegression(solver='liblinear', random_state=0, penalty = 'l2').fit(x_train, y_train)\n",
    "print(model3.score(x_test,y_test))\n",
    "confusion_matrix(y_test, model3.predict(x_test))"
   ]
  },
  {
   "cell_type": "code",
   "execution_count": 13,
   "id": "fd9d2f20",
   "metadata": {},
   "outputs": [
    {
     "name": "stdout",
     "output_type": "stream",
     "text": [
      "0.9631940112289458\n"
     ]
    },
    {
     "data": {
      "text/plain": [
       "array([[1479,   24],\n",
       "       [  35,   65]], dtype=int64)"
      ]
     },
     "execution_count": 13,
     "metadata": {},
     "output_type": "execute_result"
    }
   ],
   "source": [
    "model3 = LogisticRegression(solver='liblinear', random_state=0, penalty = 'l2',C=3).fit(x_train, y_train)\n",
    "print(model3.score(x_test,y_test))\n",
    "confusion_matrix(y_test, model3.predict(x_test))"
   ]
  },
  {
   "cell_type": "code",
   "execution_count": 14,
   "id": "016bb03e",
   "metadata": {},
   "outputs": [
    {
     "name": "stdout",
     "output_type": "stream",
     "text": [
      "0.9625701809107923\n"
     ]
    },
    {
     "data": {
      "text/plain": [
       "array([[1479,   24],\n",
       "       [  36,   64]], dtype=int64)"
      ]
     },
     "execution_count": 14,
     "metadata": {},
     "output_type": "execute_result"
    }
   ],
   "source": [
    "model3 = LogisticRegression(solver='liblinear', random_state=0, penalty = 'l2',C=0.5).fit(x_train, y_train)\n",
    "print(model3.score(x_test,y_test))\n",
    "confusion_matrix(y_test, model3.predict(x_test))"
   ]
  },
  {
   "cell_type": "markdown",
   "id": "30b3cc28",
   "metadata": {},
   "source": [
    "<font color='blue'><b>As shown above, the solver of liblinear, default penalty of L2 and default regularization strength of 1 will produce a \n",
    "decent result already.<font color><b>"
   ]
  },
  {
   "cell_type": "code",
   "execution_count": null,
   "id": "fe82145f",
   "metadata": {},
   "outputs": [],
   "source": []
  }
 ],
 "metadata": {
  "kernelspec": {
   "display_name": "Python 3 (ipykernel)",
   "language": "python",
   "name": "python3"
  },
  "language_info": {
   "codemirror_mode": {
    "name": "ipython",
    "version": 3
   },
   "file_extension": ".py",
   "mimetype": "text/x-python",
   "name": "python",
   "nbconvert_exporter": "python",
   "pygments_lexer": "ipython3",
   "version": "3.8.7"
  }
 },
 "nbformat": 4,
 "nbformat_minor": 5
}
